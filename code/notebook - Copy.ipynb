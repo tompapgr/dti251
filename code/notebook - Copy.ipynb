{
 "cells": [
  {
   "cell_type": "code",
   "execution_count": null,
   "id": "46bdc4fb",
   "metadata": {},
   "outputs": [],
   "source": [
    "# in order for the code to function properly, the file \"datasetlog10.txt\" and the folder \"models\"\n",
    "# need to be placed in the same location as the jupyter notebook"
   ]
  },
  {
   "cell_type": "code",
   "execution_count": null,
   "id": "831e82b6",
   "metadata": {},
   "outputs": [],
   "source": [
    "# install the required dependencies\n",
    "!pip install DeepPurpose\n",
    "!pip install rdkit\n",
    "!pip install git+https://github.com/bp-kelley/descriptastorus\n",
    "!pip install pandas-flavor"
   ]
  },
  {
   "cell_type": "code",
   "execution_count": null,
   "id": "64f2e855",
   "metadata": {},
   "outputs": [],
   "source": [
    "# import required libraries\n",
    "from DeepPurpose import utils, dataset\n",
    "from DeepPurpose import DTI as models\n",
    "import warnings\n",
    "import pandas as pd\n",
    "warnings.filterwarnings(\"ignore\")"
   ]
  },
  {
   "cell_type": "code",
   "execution_count": null,
   "id": "0a4a3c1e",
   "metadata": {},
   "outputs": [],
   "source": [
    "# load the training dataset\n",
    "X_drugs, X_targets, y = dataset.read_file_training_dataset_drug_target_pairs('datasetlog10.txt')"
   ]
  },
  {
   "cell_type": "code",
   "execution_count": null,
   "id": "3ec67252",
   "metadata": {},
   "outputs": [],
   "source": [
    "# specify the drug and target encoders\n",
    "drug_encoding, target_encoding = 'Transformer', 'CNN'"
   ]
  },
  {
   "cell_type": "code",
   "execution_count": null,
   "id": "ce9e1bc2",
   "metadata": {
    "scrolled": true
   },
   "outputs": [],
   "source": [
    "# load model\n",
    "model = models.model_pretrained(path_dir = 'model/')"
   ]
  },
  {
   "cell_type": "code",
   "execution_count": null,
   "id": "7f751585",
   "metadata": {
    "scrolled": false
   },
   "outputs": [],
   "source": [
    "# single drug-target prediction\n",
    "X_drug = ['N#C[C@@H]1CSCN1C(=O)CNC(=O)c1ccnc2ccc(N3CC(F)(C4CC4)C3)cc12']\n",
    "X_target = ['MKTWVKIVFGVATSAVLALLVMCIVLRPSRVHNSEENTMRALTLKDILNGTFSYKTFFPNWISGQEYLHQSADNNIVLYNIETGQSYTILSNRTMKSVNASNYGLSPDRQFVYLESDYSKLWRYSYTATYYIYDLSNGEFVRGNELPRPIQYLCWSPVGSKLAYVYQNNIYLKQRPGDPPFQITFNGRENKIFNGIPDWVYEEEMLATKYALWWSPNGKFLAYAEFNDTDIPVIAYSYYGDEQYPRTINIPYPKAGAKNPVVRIFIIDTTYPAYVGPQEVPVPAMIASSDYYFSWLTWVTDERVCLQWLKRVQNVSVLSICDFREDWQTWDCPKTQEHIEESRTGWAGGFFVSTPVFSYDAISYYKIFSDKDGYKHIHYIKDTVENAIQITSGKWEAINIFRVTQDSLFYSSNEFEEYPGRRNIYRISIGSYPPSKKCVTCHLRKERCQYYTASFSDYAKYYALVCYGPGIPISTLHDGRTDQEIKILEENKELENALKNIQLPKEEIKKLEVDEITLWYKMILPPQFDRSKKYPLLIQVYGGPCSQSVRSVFAVNWISYLASKEGMVIALVDGRGTAFQGDKLLYAVYRKLGVYEVEDQITAVRKFIEMGFIDEKRIAIWGWSYGGYVSSLALASGTGLFKCGIAVAPVSSWEYYASVYTERFMGLPTKDDNLEHYKNSTVMARAEYFRNVDYLLIHGTADDNVHFQNSAQIAKALVNAQVDFQAMWYSDQNHGLSGLSTNHLYTHMTHFLKQCFSLSD']\n",
    "\n",
    "X_pred = utils.data_process(X_drug, X_target, y, \n",
    "                                drug_encoding, target_encoding, \n",
    "                                split_method='no_split')\n",
    "y_pred = model.predict(X_pred)\n",
    "print('The predicted score is ' + str(y_pred))"
   ]
  },
  {
   "cell_type": "code",
   "execution_count": null,
   "id": "81ab6e27",
   "metadata": {
    "scrolled": true
   },
   "outputs": [],
   "source": [
    "# bulk drug-target prediction\n",
    "# input file should be in csv format\n",
    "# 1st column contains SMILES sequence of drug\n",
    "# 2nd column contains amino acid sequence of target\n",
    "\n",
    "csv_file = 'input.csv' \n",
    "data = pd.read_csv(csv_file, header=None)  # No headers in the CSV\n",
    "\n",
    "# extract SMILES and protein sequences from the first two columns\n",
    "X_drug = data[0].tolist()  # first column: SMILES\n",
    "X_target = data[1].tolist()  # second column: protein sequences\n",
    "\n",
    "# list to hold predictions\n",
    "predictions = []\n",
    "\n",
    "# loop through each drug-target pair\n",
    "for i in range(len(X_drug)):\n",
    "    drug = X_drug[i]\n",
    "    target = X_target[i]\n",
    "    \n",
    "    # process the input data for prediction\n",
    "    X_pred = utils.data_process([drug], [target], y, \n",
    "                                drug_encoding, target_encoding, \n",
    "                                split_method='no_split')\n",
    "    \n",
    "    # predict the binding affinity\n",
    "    y_pred = model.predict(X_pred)\n",
    "    predictions.append(y_pred[0])  # Assuming the prediction is a single value\n",
    "\n",
    "# add the predictions as a new column to the dataframe (third column)\n",
    "data[2] = predictions  # add predictions to the third column\n",
    "\n",
    "# save the updated dataframe to a new CSV file with predictions\n",
    "output_file = 'output.csv'\n",
    "data.to_csv(output_file, index=False, header=False)\n",
    "\n",
    "print(f'Predictions saved to {output_file}')"
   ]
  }
 ],
 "metadata": {
  "kernelspec": {
   "display_name": "bioenv1",
   "language": "python",
   "name": "bioenv1"
  },
  "language_info": {
   "codemirror_mode": {
    "name": "ipython",
    "version": 3
   },
   "file_extension": ".py",
   "mimetype": "text/x-python",
   "name": "python",
   "nbconvert_exporter": "python",
   "pygments_lexer": "ipython3",
   "version": "3.11.5"
  }
 },
 "nbformat": 4,
 "nbformat_minor": 5
}
